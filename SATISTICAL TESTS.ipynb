{
 "cells": [
  {
   "cell_type": "markdown",
   "id": "54afdbe0",
   "metadata": {},
   "source": [
    "###  1. REGRESSION TEST\n",
    "\n",
    "**WHY REGRESSION TEST?**\n",
    "\n",
    "**To understand the linear relationship between two quantitative features**"
   ]
  },
  {
   "cell_type": "code",
   "execution_count": 5,
   "id": "d0068bd0",
   "metadata": {},
   "outputs": [],
   "source": [
    "experience=[1,2,3,4,5,6,7,8,9,10]\n",
    "salary    =[10000,20000,30000,40000,50000,60000,70000,80000,90000,100000]  "
   ]
  },
  {
   "cell_type": "code",
   "execution_count": 6,
   "id": "7d0062c5",
   "metadata": {},
   "outputs": [],
   "source": [
    "from matplotlib import pyplot as plt\n",
    "import seaborn as sns"
   ]
  },
  {
   "cell_type": "code",
   "execution_count": 7,
   "id": "04a3ae22",
   "metadata": {},
   "outputs": [
    {
     "data": {
      "text/plain": [
       "<AxesSubplot:>"
      ]
     },
     "execution_count": 7,
     "metadata": {},
     "output_type": "execute_result"
    },
    {
     "data": {
      "image/png": "[encoded data removed]",
      "text/plain": [
       "<Figure size 432x288 with 1 Axes>"
      ]
     },
     "metadata": {
      "needs_background": "light"
     },
     "output_type": "display_data"
    }
   ],
   "source": [
    "sns.scatterplot(experience,salary)"
   ]
  },
  {
   "cell_type": "code",
   "execution_count": 33,
   "id": "f26e8096",
   "metadata": {
    "scrolled": true
   },
   "outputs": [
    {
     "data": {
      "text/plain": [
       "<AxesSubplot:>"
      ]
     },
     "execution_count": 33,
     "metadata": {},
     "output_type": "execute_result"
    },
    {
     "data": {
      "image/png": "[encoded data removed]",
      "text/plain": [
       "<Figure size 432x288 with 1 Axes>"
      ]
     },
     "metadata": {
      "needs_background": "light"
     },
     "output_type": "display_data"
    }
   ],
   "source": [
    "from matplotlib import pyplot as plt\n",
    "import seaborn as sns\n",
    "import pandas as pd\n",
    "import warnings\n",
    "warnings.filterwarnings('ignore')\n",
    "sns.scatterplot(experience,salary)"
   ]
  },
  {
   "cell_type": "markdown",
   "id": "741082d0",
   "metadata": {},
   "source": [
    "###  HYPOTHESIS FORMULATION \n",
    "\n",
    "**H0: there is no linear association between experience and salary**\n",
    "\n",
    "**H1: There is linear association between experience and salary.**[Statistically significant]\n",
    "\n",
    "LEVEL OF SIGNIFICANCE-10%\n"
   ]
  },
  {
   "cell_type": "code",
   "execution_count": 34,
   "id": "ad2523f3",
   "metadata": {},
   "outputs": [
    {
     "data": {
      "image/png": "[encoded data removed]",
      "text/plain": [
       "<Figure size 432x288 with 1 Axes>"
      ]
     },
     "metadata": {
      "needs_background": "light"
     },
     "output_type": "display_data"
    }
   ],
   "source": [
    "sns.scatterplot(experience,salary)\n",
    "plt.xlabel('experience')\n",
    "plt.ylabel('salary')\n",
    "plt.title('Experience vs Salary')\n",
    "plt.show()\n"
   ]
  },
  {
   "cell_type": "code",
   "execution_count": 35,
   "id": "e9c4bdcb",
   "metadata": {},
   "outputs": [],
   "source": [
    "import statsmodels.formula.api as smf"
   ]
  },
  {
   "cell_type": "code",
   "execution_count": 37,
   "id": "01fd658c",
   "metadata": {},
   "outputs": [
    {
     "data": {
      "text/html": [
       "<div>\n",
       "<style scoped>\n",
       "    .dataframe tbody tr th:only-of-type {\n",
       "        vertical-align: middle;\n",
       "    }\n",
       "\n",
       "    .dataframe tbody tr th {\n",
       "        vertical-align: top;\n",
       "    }\n",
       "\n",
       "    .dataframe thead th {\n",
       "        text-align: right;\n",
       "    }\n",
       "</style>\n",
       "<table border=\"1\" class=\"dataframe\">\n",
       "  <thead>\n",
       "    <tr style=\"text-align: right;\">\n",
       "      <th></th>\n",
       "      <th>Experience</th>\n",
       "      <th>Salary</th>\n",
       "    </tr>\n",
       "  </thead>\n",
       "  <tbody>\n",
       "    <tr>\n",
       "      <th>0</th>\n",
       "      <td>1</td>\n",
       "      <td>10000</td>\n",
       "    </tr>\n",
       "    <tr>\n",
       "      <th>1</th>\n",
       "      <td>2</td>\n",
       "      <td>20000</td>\n",
       "    </tr>\n",
       "    <tr>\n",
       "      <th>2</th>\n",
       "      <td>3</td>\n",
       "      <td>30000</td>\n",
       "    </tr>\n",
       "    <tr>\n",
       "      <th>3</th>\n",
       "      <td>4</td>\n",
       "      <td>40000</td>\n",
       "    </tr>\n",
       "    <tr>\n",
       "      <th>4</th>\n",
       "      <td>5</td>\n",
       "      <td>50000</td>\n",
       "    </tr>\n",
       "    <tr>\n",
       "      <th>5</th>\n",
       "      <td>6</td>\n",
       "      <td>60000</td>\n",
       "    </tr>\n",
       "    <tr>\n",
       "      <th>6</th>\n",
       "      <td>7</td>\n",
       "      <td>70000</td>\n",
       "    </tr>\n",
       "    <tr>\n",
       "      <th>7</th>\n",
       "      <td>8</td>\n",
       "      <td>80000</td>\n",
       "    </tr>\n",
       "    <tr>\n",
       "      <th>8</th>\n",
       "      <td>9</td>\n",
       "      <td>90000</td>\n",
       "    </tr>\n",
       "    <tr>\n",
       "      <th>9</th>\n",
       "      <td>10</td>\n",
       "      <td>100000</td>\n",
       "    </tr>\n",
       "  </tbody>\n",
       "</table>\n",
       "</div>"
      ],
      "text/plain": [
       "   Experience  Salary\n",
       "0           1   10000\n",
       "1           2   20000\n",
       "2           3   30000\n",
       "3           4   40000\n",
       "4           5   50000\n",
       "5           6   60000\n",
       "6           7   70000\n",
       "7           8   80000\n",
       "8           9   90000\n",
       "9          10  100000"
      ]
     },
     "execution_count": 37,
     "metadata": {},
     "output_type": "execute_result"
    }
   ],
   "source": [
    "salary_data=pd.DataFrame(data={'Experience':experience,'Salary':salary})\n",
    "salary_data"
   ]
  },
  {
   "cell_type": "code",
   "execution_count": null,
   "id": "8719778f",
   "metadata": {},
   "outputs": [],
   "source": [
    "salary_data"
   ]
  },
  {
   "cell_type": "code",
   "execution_count": 40,
   "id": "2d62c029",
   "metadata": {},
   "outputs": [],
   "source": [
    "linera_model=smf.ols('salary~experience',data=salary_data).fit()"
   ]
  },
  {
   "cell_type": "code",
   "execution_count": 42,
   "id": "593fe50d",
   "metadata": {},
   "outputs": [
    {
     "data": {
      "text/plain": [
       "Intercept      6.582172e-01\n",
       "experience    7.892545e-125\n",
       "dtype: float64"
      ]
     },
     "execution_count": 42,
     "metadata": {},
     "output_type": "execute_result"
    }
   ],
   "source": [
    "linera_model.pvalues"
   ]
  },
  {
   "cell_type": "markdown",
   "id": "24811170",
   "metadata": {},
   "source": [
    "###  OBSERVATION:\n",
    "\n",
    "**At 10%  level of significance , I can reject the null hypothesis and say that slary and experience is having linear association**"
   ]
  },
  {
   "cell_type": "markdown",
   "id": "a7c30eae",
   "metadata": {},
   "source": [
    "###  2. CHI SQUARE TEST\n",
    "\n",
    "**WHY CHI SQUARE TEST?**\n",
    "\n",
    "**TO UNDERATAND THE ASSOCIANTION BETWEEN 2 QUALITATIVE VARIABLES**"
   ]
  },
  {
   "cell_type": "code",
   "execution_count": 45,
   "id": "bedcc029",
   "metadata": {},
   "outputs": [
    {
     "data": {
      "text/plain": [
       "['anagrams',\n",
       " 'anscombe',\n",
       " 'attention',\n",
       " 'brain_networks',\n",
       " 'car_crashes',\n",
       " 'diamonds',\n",
       " 'dots',\n",
       " 'exercise',\n",
       " 'flights',\n",
       " 'fmri',\n",
       " 'gammas',\n",
       " 'geyser',\n",
       " 'iris',\n",
       " 'mpg',\n",
       " 'penguins',\n",
       " 'planets',\n",
       " 'taxis',\n",
       " 'tips',\n",
       " 'titanic']"
      ]
     },
     "execution_count": 45,
     "metadata": {},
     "output_type": "execute_result"
    }
   ],
   "source": [
    "sns.get_dataset_names()"
   ]
  },
  {
   "cell_type": "code",
   "execution_count": 49,
   "id": "38de4dff",
   "metadata": {},
   "outputs": [
    {
     "data": {
      "text/html": [
       "<div>\n",
       "<style scoped>\n",
       "    .dataframe tbody tr th:only-of-type {\n",
       "        vertical-align: middle;\n",
       "    }\n",
       "\n",
       "    .dataframe tbody tr th {\n",
       "        vertical-align: top;\n",
       "    }\n",
       "\n",
       "    .dataframe thead th {\n",
       "        text-align: right;\n",
       "    }\n",
       "</style>\n",
       "<table border=\"1\" class=\"dataframe\">\n",
       "  <thead>\n",
       "    <tr style=\"text-align: right;\">\n",
       "      <th></th>\n",
       "      <th>total_bill</th>\n",
       "      <th>tip</th>\n",
       "      <th>sex</th>\n",
       "      <th>smoker</th>\n",
       "      <th>day</th>\n",
       "      <th>time</th>\n",
       "      <th>size</th>\n",
       "    </tr>\n",
       "  </thead>\n",
       "  <tbody>\n",
       "    <tr>\n",
       "      <th>0</th>\n",
       "      <td>16.99</td>\n",
       "      <td>1.01</td>\n",
       "      <td>Female</td>\n",
       "      <td>No</td>\n",
       "      <td>Sun</td>\n",
       "      <td>Dinner</td>\n",
       "      <td>2</td>\n",
       "    </tr>\n",
       "    <tr>\n",
       "      <th>1</th>\n",
       "      <td>10.34</td>\n",
       "      <td>1.66</td>\n",
       "      <td>Male</td>\n",
       "      <td>No</td>\n",
       "      <td>Sun</td>\n",
       "      <td>Dinner</td>\n",
       "      <td>3</td>\n",
       "    </tr>\n",
       "    <tr>\n",
       "      <th>2</th>\n",
       "      <td>21.01</td>\n",
       "      <td>3.50</td>\n",
       "      <td>Male</td>\n",
       "      <td>No</td>\n",
       "      <td>Sun</td>\n",
       "      <td>Dinner</td>\n",
       "      <td>3</td>\n",
       "    </tr>\n",
       "    <tr>\n",
       "      <th>3</th>\n",
       "      <td>23.68</td>\n",
       "      <td>3.31</td>\n",
       "      <td>Male</td>\n",
       "      <td>No</td>\n",
       "      <td>Sun</td>\n",
       "      <td>Dinner</td>\n",
       "      <td>2</td>\n",
       "    </tr>\n",
       "    <tr>\n",
       "      <th>4</th>\n",
       "      <td>24.59</td>\n",
       "      <td>3.61</td>\n",
       "      <td>Female</td>\n",
       "      <td>No</td>\n",
       "      <td>Sun</td>\n",
       "      <td>Dinner</td>\n",
       "      <td>4</td>\n",
       "    </tr>\n",
       "    <tr>\n",
       "      <th>...</th>\n",
       "      <td>...</td>\n",
       "      <td>...</td>\n",
       "      <td>...</td>\n",
       "      <td>...</td>\n",
       "      <td>...</td>\n",
       "      <td>...</td>\n",
       "      <td>...</td>\n",
       "    </tr>\n",
       "    <tr>\n",
       "      <th>239</th>\n",
       "      <td>29.03</td>\n",
       "      <td>5.92</td>\n",
       "      <td>Male</td>\n",
       "      <td>No</td>\n",
       "      <td>Sat</td>\n",
       "      <td>Dinner</td>\n",
       "      <td>3</td>\n",
       "    </tr>\n",
       "    <tr>\n",
       "      <th>240</th>\n",
       "      <td>27.18</td>\n",
       "      <td>2.00</td>\n",
       "      <td>Female</td>\n",
       "      <td>Yes</td>\n",
       "      <td>Sat</td>\n",
       "      <td>Dinner</td>\n",
       "      <td>2</td>\n",
       "    </tr>\n",
       "    <tr>\n",
       "      <th>241</th>\n",
       "      <td>22.67</td>\n",
       "      <td>2.00</td>\n",
       "      <td>Male</td>\n",
       "      <td>Yes</td>\n",
       "      <td>Sat</td>\n",
       "      <td>Dinner</td>\n",
       "      <td>2</td>\n",
       "    </tr>\n",
       "    <tr>\n",
       "      <th>242</th>\n",
       "      <td>17.82</td>\n",
       "      <td>1.75</td>\n",
       "      <td>Male</td>\n",
       "      <td>No</td>\n",
       "      <td>Sat</td>\n",
       "      <td>Dinner</td>\n",
       "      <td>2</td>\n",
       "    </tr>\n",
       "    <tr>\n",
       "      <th>243</th>\n",
       "      <td>18.78</td>\n",
       "      <td>3.00</td>\n",
       "      <td>Female</td>\n",
       "      <td>No</td>\n",
       "      <td>Thur</td>\n",
       "      <td>Dinner</td>\n",
       "      <td>2</td>\n",
       "    </tr>\n",
       "  </tbody>\n",
       "</table>\n",
       "<p>244 rows × 7 columns</p>\n",
       "</div>"
      ],
      "text/plain": [
       "     total_bill   tip     sex smoker   day    time  size\n",
       "0         16.99  1.01  Female     No   Sun  Dinner     2\n",
       "1         10.34  1.66    Male     No   Sun  Dinner     3\n",
       "2         21.01  3.50    Male     No   Sun  Dinner     3\n",
       "3         23.68  3.31    Male     No   Sun  Dinner     2\n",
       "4         24.59  3.61  Female     No   Sun  Dinner     4\n",
       "..          ...   ...     ...    ...   ...     ...   ...\n",
       "239       29.03  5.92    Male     No   Sat  Dinner     3\n",
       "240       27.18  2.00  Female    Yes   Sat  Dinner     2\n",
       "241       22.67  2.00    Male    Yes   Sat  Dinner     2\n",
       "242       17.82  1.75    Male     No   Sat  Dinner     2\n",
       "243       18.78  3.00  Female     No  Thur  Dinner     2\n",
       "\n",
       "[244 rows x 7 columns]"
      ]
     },
     "execution_count": 49,
     "metadata": {},
     "output_type": "execute_result"
    }
   ],
   "source": [
    "tips_data=sns.load_dataset(name='tips')\n",
    "tips_data"
   ]
  },
  {
   "cell_type": "markdown",
   "id": "14e59572",
   "metadata": {},
   "source": [
    "### hypothesis formulation\n",
    "\n",
    "**H0:There is no significant association between Sex and Smokers**\n",
    "\n",
    "**H1:There is a significant association between Sex and Smokers**"
   ]
  },
  {
   "cell_type": "code",
   "execution_count": 55,
   "id": "40532c32",
   "metadata": {},
   "outputs": [
    {
     "data": {
      "text/html": [
       "<div>\n",
       "<style scoped>\n",
       "    .dataframe tbody tr th:only-of-type {\n",
       "        vertical-align: middle;\n",
       "    }\n",
       "\n",
       "    .dataframe tbody tr th {\n",
       "        vertical-align: top;\n",
       "    }\n",
       "\n",
       "    .dataframe thead th {\n",
       "        text-align: right;\n",
       "    }\n",
       "</style>\n",
       "<table border=\"1\" class=\"dataframe\">\n",
       "  <thead>\n",
       "    <tr style=\"text-align: right;\">\n",
       "      <th>smoker</th>\n",
       "      <th>Yes</th>\n",
       "      <th>No</th>\n",
       "    </tr>\n",
       "    <tr>\n",
       "      <th>sex</th>\n",
       "      <th></th>\n",
       "      <th></th>\n",
       "    </tr>\n",
       "  </thead>\n",
       "  <tbody>\n",
       "    <tr>\n",
       "      <th>Male</th>\n",
       "      <td>60</td>\n",
       "      <td>97</td>\n",
       "    </tr>\n",
       "    <tr>\n",
       "      <th>Female</th>\n",
       "      <td>33</td>\n",
       "      <td>54</td>\n",
       "    </tr>\n",
       "  </tbody>\n",
       "</table>\n",
       "</div>"
      ],
      "text/plain": [
       "smoker  Yes  No\n",
       "sex            \n",
       "Male     60  97\n",
       "Female   33  54"
      ]
     },
     "execution_count": 55,
     "metadata": {},
     "output_type": "execute_result"
    }
   ],
   "source": [
    "crosstab_data=pd.crosstab(index=tips_data['sex'],columns=tips_data['smoker'])\n",
    "crosstab_data"
   ]
  },
  {
   "cell_type": "code",
   "execution_count": 56,
   "id": "4bab118e",
   "metadata": {},
   "outputs": [],
   "source": [
    "from  scipy import stats"
   ]
  },
  {
   "cell_type": "code",
   "execution_count": 57,
   "id": "73c70c8e",
   "metadata": {},
   "outputs": [
    {
     "data": {
      "text/plain": [
       "(0.0,\n",
       " 1.0,\n",
       " 1,\n",
       " array([[59.84016393, 97.15983607],\n",
       "        [33.15983607, 53.84016393]]))"
      ]
     },
     "execution_count": 57,
     "metadata": {},
     "output_type": "execute_result"
    }
   ],
   "source": [
    "stats.chi2_contingency(observed=pd.crosstab(index=tips_data['sex'],columns=tips_data['smoker']))"
   ]
  },
  {
   "cell_type": "code",
   "execution_count": 60,
   "id": "2515f8df",
   "metadata": {},
   "outputs": [
    {
     "data": {
      "text/plain": [
       "(0.0,\n",
       " 1.0,\n",
       " 1,\n",
       " array([[59.84016393, 97.15983607],\n",
       "        [33.15983607, 53.84016393]]))"
      ]
     },
     "execution_count": 60,
     "metadata": {},
     "output_type": "execute_result"
    }
   ],
   "source": [
    "chi_square_test_val,pval,deg_of_freedom,expected_table=stats.chi2_contingency(observed=crosstab_data)\n",
    "chi_square_test_val,pval,deg_of_freedom,expected_table"
   ]
  },
  {
   "cell_type": "code",
   "execution_count": 64,
   "id": "dda9b80f",
   "metadata": {
    "scrolled": true
   },
   "outputs": [
    {
     "name": "stdout",
     "output_type": "stream",
     "text": [
      "***********************\n",
      "CHI-SQUARE-TEST: 0.0\n",
      "PVALUE: 1.0\n",
      "DEGREES OF FREEDOM: 1\n",
      "EXPECTED TABLE: [[59.84016393 97.15983607]\n",
      " [33.15983607 53.84016393]]\n",
      "***********************\n"
     ]
    }
   ],
   "source": [
    "print('***********************')\n",
    "print('CHI-SQUARE-TEST:',chi_square_test_val)\n",
    "print('PVALUE:',pval)\n",
    "print('DEGREES OF FREEDOM:',deg_of_freedom)\n",
    "print('EXPECTED TABLE:',expected_table)\n",
    "print('***********************')"
   ]
  },
  {
   "cell_type": "code",
   "execution_count": 65,
   "id": "9769c399",
   "metadata": {},
   "outputs": [
    {
     "name": "stdout",
     "output_type": "stream",
     "text": [
      "We cannot reject null hypothesis and can claim that there is no significant association between sex and smokers\n"
     ]
    }
   ],
   "source": [
    "if pval<0.10:\n",
    "    print('We can reject null hypothesis and can claim that there is a significant association between sex and smokers')\n",
    "else:\n",
    "    print('We cannot reject null hypothesis and can claim that there is no significant association between sex and smokers')\n"
   ]
  },
  {
   "cell_type": "markdown",
   "id": "1eb458b3",
   "metadata": {},
   "source": [
    "###  3. T-TEST\n",
    "**1 sample T test**\n",
    "\n",
    "**2 sample T test**\n",
    "\n",
    "**ANOVA**\n",
    "\n",
    "**PAIRED TEST**\n"
   ]
  },
  {
   "cell_type": "markdown",
   "id": "7f66647c",
   "metadata": {},
   "source": [
    "### 1 SAMPLE T TEST"
   ]
  },
  {
   "cell_type": "code",
   "execution_count": 78,
   "id": "51ad1edb",
   "metadata": {},
   "outputs": [
    {
     "data": {
      "text/plain": [
       "30"
      ]
     },
     "execution_count": 78,
     "metadata": {},
     "output_type": "execute_result"
    }
   ],
   "source": [
    "ages = [20,40,50,40,30,50,40,30,45,60,40,18,30,60,40,30,50,40,50,60,30,27,70,48,60,50,25,45,40,40]\n",
    "len(ages)"
   ]
  },
  {
   "cell_type": "code",
   "execution_count": 81,
   "id": "51abe242",
   "metadata": {},
   "outputs": [
    {
     "data": {
      "text/plain": [
       "41.93333333333333"
      ]
     },
     "execution_count": 81,
     "metadata": {},
     "output_type": "execute_result"
    }
   ],
   "source": [
    "np.mean(ages)"
   ]
  },
  {
   "cell_type": "code",
   "execution_count": 79,
   "id": "8d9a29cf",
   "metadata": {},
   "outputs": [],
   "source": [
    "import numpy as np"
   ]
  },
  {
   "cell_type": "code",
   "execution_count": 94,
   "id": "54523653",
   "metadata": {},
   "outputs": [
    {
     "name": "stdout",
     "output_type": "stream",
     "text": [
      "RANDOM SELECTION: [60 25 30 18 45]\n"
     ]
    },
    {
     "data": {
      "text/plain": [
       "35.6"
      ]
     },
     "execution_count": 94,
     "metadata": {},
     "output_type": "execute_result"
    }
   ],
   "source": [
    "random_selection=np.random.choice(a=ages,size=5)\n",
    "random_selection\n",
    "print('RANDOM SELECTION:',random_selection)\n",
    "np.mean(random_selection)"
   ]
  },
  {
   "cell_type": "markdown",
   "id": "a53e2bc5",
   "metadata": {},
   "source": [
    "###  HYPOTHESIS FORMULATION\n",
    "\n",
    "**H0: The average age of the user is 40**/there is no significant difference with respect to the population average and sample average\n",
    "\n",
    "**H1: The average age is not 40**/there is a significant difference with respect to the population average and sample average\n",
    "\n",
    "**length of significance is 5%**"
   ]
  },
  {
   "cell_type": "code",
   "execution_count": 95,
   "id": "4ea597f5",
   "metadata": {},
   "outputs": [
    {
     "data": {
      "text/plain": [
       "Ttest_1sampResult(statistic=-0.8487436661108453, pvalue=0.44383202768607877)"
      ]
     },
     "execution_count": 95,
     "metadata": {},
     "output_type": "execute_result"
    }
   ],
   "source": [
    "stats.ttest_1samp(a=random_selection,popmean=42)"
   ]
  },
  {
   "cell_type": "code",
   "execution_count": 100,
   "id": "52578915",
   "metadata": {},
   "outputs": [
    {
     "data": {
      "text/plain": [
       "(0.0, 1.0)"
      ]
     },
     "execution_count": 100,
     "metadata": {},
     "output_type": "execute_result"
    }
   ],
   "source": [
    "t_test,p_val=stats.ttest_1samp(a=random_selection,popmean=35.6)\n",
    "t_test,p_val"
   ]
  },
  {
   "cell_type": "code",
   "execution_count": 101,
   "id": "b61f3145",
   "metadata": {},
   "outputs": [
    {
     "data": {
      "text/plain": [
       "0.0"
      ]
     },
     "execution_count": 101,
     "metadata": {},
     "output_type": "execute_result"
    }
   ],
   "source": [
    "t_test"
   ]
  },
  {
   "cell_type": "code",
   "execution_count": 102,
   "id": "94ec04b6",
   "metadata": {},
   "outputs": [
    {
     "data": {
      "text/plain": [
       "1.0"
      ]
     },
     "execution_count": 102,
     "metadata": {},
     "output_type": "execute_result"
    }
   ],
   "source": [
    "pval"
   ]
  },
  {
   "cell_type": "code",
   "execution_count": 106,
   "id": "67a80cdc",
   "metadata": {},
   "outputs": [],
   "source": [
    "from scipy import stats\n",
    "import numpy as np\n",
    "covishield_reaction_time = [48,50,24,24,24,50]\n",
    "covaxin_reaction_time    = [0,0,2,0,2,0]"
   ]
  },
  {
   "cell_type": "code",
   "execution_count": 107,
   "id": "efe07452",
   "metadata": {},
   "outputs": [
    {
     "data": {
      "text/plain": [
       "36.666666666666664"
      ]
     },
     "execution_count": 107,
     "metadata": {},
     "output_type": "execute_result"
    }
   ],
   "source": [
    "np.mean(covishield_reaction_time)"
   ]
  },
  {
   "cell_type": "code",
   "execution_count": 105,
   "id": "021a8596",
   "metadata": {},
   "outputs": [
    {
     "data": {
      "text/plain": [
       "0.6666666666666666"
      ]
     },
     "execution_count": 105,
     "metadata": {},
     "output_type": "execute_result"
    }
   ],
   "source": [
    "np.mean(covaxin_reaction_time)"
   ]
  },
  {
   "cell_type": "code",
   "execution_count": 109,
   "id": "f7a50616",
   "metadata": {},
   "outputs": [
    {
     "data": {
      "text/plain": [
       "8.582002062447786e-05"
      ]
     },
     "execution_count": 109,
     "metadata": {},
     "output_type": "execute_result"
    }
   ],
   "source": [
    "_,pval=stats.ttest_ind(a=covishield_reaction_time,b=covaxin_reaction_time)\n",
    "pval"
   ]
  },
  {
   "cell_type": "code",
   "execution_count": 110,
   "id": "c58462f2",
   "metadata": {},
   "outputs": [
    {
     "name": "stdout",
     "output_type": "stream",
     "text": [
      "We reject the null hypothesis and we clain that there is a significant difference in the averaage reaction time\n"
     ]
    }
   ],
   "source": [
    "if pval<0.01:\n",
    "    print('We reject the null hypothesis and we clain that there is a significant difference in the averaage reaction time')\n",
    "else:\n",
    "    print('We reject the null hypothesis and we clain that there is a significant difference in the averaage reaction time')"
   ]
  },
  {
   "cell_type": "code",
   "execution_count": 111,
   "id": "5b81839e",
   "metadata": {},
   "outputs": [],
   "source": [
    "preweightloss_program  = [110,100,120,105,100,110,99,120,110,100]\n",
    "postweightloss_program = [80,78,90,89,88,90,80,80,85,70]"
   ]
  },
  {
   "cell_type": "code",
   "execution_count": 113,
   "id": "e0872d89",
   "metadata": {},
   "outputs": [
    {
     "data": {
      "text/plain": [
       "107.4"
      ]
     },
     "execution_count": 113,
     "metadata": {},
     "output_type": "execute_result"
    }
   ],
   "source": [
    "np.mean(preweightloss_program)"
   ]
  },
  {
   "cell_type": "code",
   "execution_count": 114,
   "id": "478b08d8",
   "metadata": {},
   "outputs": [
    {
     "data": {
      "text/plain": [
       "83.0"
      ]
     },
     "execution_count": 114,
     "metadata": {},
     "output_type": "execute_result"
    }
   ],
   "source": [
    "np.mean(postweightloss_program)"
   ]
  },
  {
   "cell_type": "code",
   "execution_count": 115,
   "id": "91ce48a8",
   "metadata": {},
   "outputs": [
    {
     "data": {
      "text/plain": [
       "6.389963390670724e-06"
      ]
     },
     "execution_count": 115,
     "metadata": {},
     "output_type": "execute_result"
    }
   ],
   "source": [
    "_,pval=stats.ttest_rel(a=preweightloss_program,b=postweightloss_program)\n",
    "pval"
   ]
  },
  {
   "cell_type": "code",
   "execution_count": null,
   "id": "cd32acd0",
   "metadata": {},
   "outputs": [],
   "source": []
  }
 ],
 "metadata": {
  "kernelspec": {
   "display_name": "Python 3 (ipykernel)",
   "language": "python",
   "name": "python3"
  },
  "language_info": {
   "codemirror_mode": {
    "name": "ipython",
    "version": 3
   },
   "file_extension": ".py",
   "mimetype": "text/x-python",
   "name": "python",
   "nbconvert_exporter": "python",
   "pygments_lexer": "ipython3",
   "version": "3.9.7"
  }
 },
 "nbformat": 4,
 "nbformat_minor": 5
}
